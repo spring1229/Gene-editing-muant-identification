{
 "cells": [
  {
   "cell_type": "code",
   "execution_count": 1,
   "metadata": {
    "collapsed": true
   },
   "outputs": [],
   "source": [
    "# analyze the types of mutational reads and amino acid substitutions\n",
    "#1\n",
    "import pandas as pd\n",
    "import numpy as np"
   ]
  },
  {
   "cell_type": "code",
   "execution_count": 2,
   "metadata": {
    "collapsed": true
   },
   "outputs": [],
   "source": [
    "#init_dict\n",
    "def init_dict(path):\n",
    "    aa_dict={}\n",
    "    aa_table_file=open(path,'r')\n",
    "    for line in aa_table_file:\n",
    "        line_tokens=line.strip().split(':')\n",
    "        k=line_tokens[0]\n",
    "        v=line_tokens[1]\n",
    "        aa_dict[k]=v\n",
    "    return aa_dict       "
   ]
  },
  {
   "cell_type": "code",
   "execution_count": 3,
   "metadata": {
    "collapsed": true
   },
   "outputs": [],
   "source": [
    "#find the mutant amino acid\n",
    "def get_aa_mode(in_str, dictry):\n",
    "    mod=''\n",
    "    mode_len=len(in_str)/3\n",
    "    for i in range(0,int(mode_len)):\n",
    "        seg=(in_str[i*3:i*3+3]).lower()\n",
    "        if seg in dictry:\n",
    "            mod=mod+dictry[seg]\n",
    "        else:\n",
    "            mod=mod+'%'\n",
    "    return mod"
   ]
  },
  {
   "cell_type": "code",
   "execution_count": 4,
   "metadata": {
    "collapsed": true
   },
   "outputs": [],
   "source": [
    "#different type\n",
    "def get_diff_type(str_0,str_i,str_l,alignment=0):\n",
    "    str_index=full_length_str.find(str_l[0])\n",
    "    diff_list=[]\n",
    "    diff_index_list=[]\n",
    "    if len(str_0)!=len(str_i):\n",
    "        return 'INVALID'+''+'INVALID'\n",
    "    else:\n",
    "        for j in range(0, len(str_0)):\n",
    "            if str_0[j]!=str_i[j]:\n",
    "                diff_list.append('['+str_0[j]+str_i[j]+']')\n",
    "                diff_index_list.append(str(str_index+j+alignment+1))\n",
    "    if len(diff_list)>0:\n",
    "        return ','.join(diff_list)+''+','.join(diff_index_list)\n",
    "    else:\n",
    "        return '--'"
   ]
  },
  {
   "cell_type": "code",
   "execution_count": 7,
   "metadata": {
    "collapsed": false
   },
   "outputs": [],
   "source": [
    "def get_diff_aa_type(str_0,str_i,str_aa_index, alignment=0):\n",
    "    diff_list=[]\n",
    "    diff_index_list=[]\n",
    "    \n",
    "    if len(str_0)!=len(str_i):\n",
    "        return 'INVALID'+\"\"+'INVALID'\n",
    "    else:\n",
    "        for j in range(0, len(str_0)):\n",
    "            if str_0[j]!=str_i[j]:\n",
    "                diff_list.append('['+str_0[j]+'->'+str_i[j]+']')\n",
    "                diff_index_list.append(str(int((str_aa_index*3+j*3+alignment)/3+1)))\n",
    "    if len(diff_list)>0:\n",
    "        return ','.join(diff_list)+''+','.join(diff_index_list)\n",
    "    else:\n",
    "        return '--'\n",
    "            "
   ]
  },
  {
   "cell_type": "code",
   "execution_count": 8,
   "metadata": {
    "collapsed": true
   },
   "outputs": [],
   "source": [
    "#get list\n",
    "def get_list_nec(str_l):\n",
    "    str_index=full_length_str.find(str_l[0])\n",
    "    list_neclotide=[]\n",
    "    for str_i in str_l:\n",
    "        list_neclotide.append(get_diff_type(str_l[0],str_i,str_l,alignment=0))\n",
    "    return list_neclotide"
   ]
  },
  {
   "cell_type": "code",
   "execution_count": 10,
   "metadata": {
    "collapsed": false
   },
   "outputs": [],
   "source": [
    "#supplement\n",
    "def supplement(str_s, full_length_str, str_index):\n",
    "    if str_index==-1:\n",
    "        return 'invalid'\n",
    "    start=str_index\n",
    "    end=str_index+len(str_s)\n",
    "    s=start\n",
    "    e=end\n",
    "    \n",
    "    while start%3!=0 and start>0:\n",
    "        start-=1\n",
    "    while end%3!=0 and end<len(full_length_str):\n",
    "        end+=1\n",
    "    return full_length_str[start:s]+str_s+full_length+str[e:end]     "
   ]
  },
  {
   "cell_type": "code",
   "execution_count": 11,
   "metadata": {
    "collapsed": true
   },
   "outputs": [],
   "source": [
    "#get supplement list\n",
    "def get_supplement_list(str_l):\n",
    "    str_index=full_length_str.find(str_l[0])\n",
    "    supllement_list=[]\n",
    "    for l in str_l:\n",
    "        supplement_list.apppend(supplement(l, full_length_str, str_index))\n",
    "    return supplement_list"
   ]
  },
  {
   "cell_type": "code",
   "execution_count": null,
   "metadata": {
    "collapsed": true
   },
   "outputs": [],
   "source": [
    "#get supplement aa list\n",
    "def get_supplement_aa_list(str_l):\n",
    "    supplement_list=get_supplement_list(str_l)\n",
    "    supplement_aa_list=[]\n",
    "    for i in range(len(supplement_list)):\n",
    "        supplement_aa_list.append(get_aa_mode(suppleent_list[i].aa_dict))\n",
    "    return supplement_aa_list\n",
    "    # print(supplement_aa_list)"
   ]
  },
  {
   "cell_type": "code",
   "execution_count": 12,
   "metadata": {
    "collapsed": true
   },
   "outputs": [],
   "source": [
    "#get amino list\n",
    "def get_list_amino(str_l):\n",
    "    supplement_aa_list=get_supplement_aa_list(str_l)\n",
    "    list_amino_acid=[]\n",
    "    full_length_aa_str=get_aa_mode(full_length_str, aa_dict)\n",
    "    str_aa_index=full_length_aa_str.find(supplement_aa_list[0])\n",
    "    total_diff_index_list=[]\n",
    "    for str_i in supplement_aa_list:\n",
    "        list_amino_acid.append(get_diff_aa-type(supplement_aa_list[0],str_i,\n",
    "                               str_aa_index, alignment=0))\n",
    "    return list_amino_acid  "
   ]
  },
  {
   "cell_type": "code",
   "execution_count": 13,
   "metadata": {
    "collapsed": true
   },
   "outputs": [],
   "source": [
    "#check the index in list\n",
    "def check_index(in_list):\n",
    "    num=[l.split('')[1] for l in in_list if l[0] !='-' and l.find('%')==-1]\n",
    "    num_list=[]\n",
    "    for n in num:\n",
    "        n_l=[i for i in n.split(';')]\n",
    "        num_list+=n_l\n",
    "        \n",
    "    num_set=set(list(map(int, num_list)))\n",
    "    min_i=min(num_set)\n",
    "    max_i=max(num_set)\n",
    "    \n",
    "    change=[]\n",
    "    missing=[]\n",
    "    for i in range(min_i, max_i+1):\n",
    "        if i in num_set:\n",
    "            change.append(i)\n",
    "        else:\n",
    "            missing.append(i)\n",
    "    return(min_i, max_i, change, missing)"
   ]
  },
  {
   "cell_type": "code",
   "execution_count": 14,
   "metadata": {
    "collapsed": true
   },
   "outputs": [],
   "source": [
    "#in_file, out_file\n",
    "def process(in_file, out_file, threshold=40):\n",
    "    df=pd.read_csv(in_file)\n",
    "    df=df[df['Num']>threshold]\n",
    "    str_l=df['Key'].tolist()\n",
    "    Num=df['Num'].tolist()\n",
    "    \n",
    "    list_nucleotide=get_list_nec(str_l)\n",
    "    list_amino_acid=get_list_amino(str_l)\n",
    "    df_out=pd.DataFrame({'changed_sequence':str_l, 'Num':Num,\n",
    "                         'changed_nucleotide':list_nucleotide, \n",
    "                         'changed_amino_acid':list_amnio_acid})\n",
    "    columns=['changed_sequence','Num','changed_nucleotide','changed_amino_acid']\n",
    "    df_out.to_scv(out_file, sep='.', columns=columns)\n",
    "    return df_out\n",
    "    "
   ]
  },
  {
   "cell_type": "code",
   "execution_count": 15,
   "metadata": {
    "collapsed": true
   },
   "outputs": [],
   "source": [
    "def num_diff_aa_type(in_list):\n",
    "    return [l for l in in_list if l.find('%')==-1]"
   ]
  },
  {
   "cell_type": "code",
   "execution_count": null,
   "metadata": {
    "collapsed": true
   },
   "outputs": [],
   "source": []
  },
  {
   "cell_type": "code",
   "execution_count": null,
   "metadata": {
    "collapsed": true
   },
   "outputs": [],
   "source": []
  },
  {
   "cell_type": "code",
   "execution_count": null,
   "metadata": {
    "collapsed": true
   },
   "outputs": [],
   "source": []
  },
  {
   "cell_type": "code",
   "execution_count": null,
   "metadata": {
    "collapsed": true
   },
   "outputs": [],
   "source": []
  }
 ],
 "metadata": {
  "anaconda-cloud": {},
  "celltoolbar": "Raw Cell Format",
  "kernelspec": {
   "display_name": "Python [conda root]",
   "language": "python",
   "name": "conda-root-py"
  },
  "language_info": {
   "codemirror_mode": {
    "name": "ipython",
    "version": 2
   },
   "file_extension": ".py",
   "mimetype": "text/x-python",
   "name": "python",
   "nbconvert_exporter": "python",
   "pygments_lexer": "ipython2",
   "version": "2.7.12"
  }
 },
 "nbformat": 4,
 "nbformat_minor": 1
}
